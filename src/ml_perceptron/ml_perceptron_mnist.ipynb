{
 "cells": [
  {
   "cell_type": "markdown",
   "id": "cf2298ab",
   "metadata": {},
   "source": [
    "# Clasificación prendas Fashion-MNIST con perceptrón"
   ]
  },
  {
   "cell_type": "code",
   "execution_count": 1,
   "id": "afa6ce40",
   "metadata": {
    "scrolled": true
   },
   "outputs": [],
   "source": [
    "%load_ext autoreload\n",
    "%autoreload 2"
   ]
  },
  {
   "cell_type": "code",
   "execution_count": 2,
   "id": "fec570be",
   "metadata": {
    "scrolled": true
   },
   "outputs": [],
   "source": [
    "from mxnet import autograd, gluon, np, npx\n",
    "import mxnet as mx\n",
    "\n",
    "from my_wrapper import wrapper as myw\n",
    "\n",
    "from sklearn.preprocessing import StandardScaler\n",
    "from sklearn.pipeline import Pipeline\n",
    "from sklearn.model_selection import KFold\n",
    "from sklearn.model_selection import GridSearchCV\n",
    "from sklearn.metrics import mean_absolute_error, mean_squared_error, accuracy_score\n",
    "from sklearn.metrics import confusion_matrix, ConfusionMatrixDisplay\n",
    "from sklearn.neural_network import MLPClassifier\n",
    "from sklearn.model_selection import cross_val_predict\n",
    "\n",
    "import matplotlib.pyplot as plt\n",
    "\n",
    "import pandas as pd\n",
    "\n",
    "npx.set_np()"
   ]
  },
  {
   "cell_type": "markdown",
   "id": "672b6641",
   "metadata": {},
   "source": [
    "**Librería propia: ```my_wrapper```**\n",
    "\n",
    "Importamos una librería propia que envuelve la implementación de modelos en gluon para que estos sean compatibles con la librería sklearn"
   ]
  },
  {
   "cell_type": "markdown",
   "id": "ecc53df0",
   "metadata": {},
   "source": [
    "## Obtener los datos"
   ]
  },
  {
   "cell_type": "markdown",
   "id": "cd31e43f",
   "metadata": {},
   "source": [
    "### Cargar desde .csv"
   ]
  },
  {
   "cell_type": "code",
   "execution_count": 3,
   "id": "9a07b2a8",
   "metadata": {},
   "outputs": [],
   "source": [
    "df_train = pd.read_csv('fashion-mnist_train.csv')\n",
    "df_test = pd.read_csv('fashion-mnist_test.csv')"
   ]
  },
  {
   "cell_type": "code",
   "execution_count": 4,
   "id": "547f2f77",
   "metadata": {},
   "outputs": [],
   "source": [
    "# permutamos filas y cogemos solo una fracción de los datos\n",
    "df_train = df_train.sample(frac=0.1, random_state=7)\n",
    "df_test = df_test.sample(frac=0.1, random_state=7)"
   ]
  },
  {
   "cell_type": "markdown",
   "id": "7f745afc",
   "metadata": {},
   "source": [
    "Cogeremos únicamente 6.000 entradas de las 60.000 de train, y 1.000 entradas de las 10.000 de test."
   ]
  },
  {
   "cell_type": "code",
   "execution_count": 5,
   "id": "ba7bb721",
   "metadata": {},
   "outputs": [],
   "source": [
    "X_train = df_train[df_train.columns[1:]].values\n",
    "y_train = df_train[df_train.columns[0]].values.reshape(-1,)\n",
    "\n",
    "X_test = df_test[df_test.columns[1:]].values\n",
    "y_test = df_test[df_test.columns[0]].values.reshape(-1,)"
   ]
  },
  {
   "cell_type": "markdown",
   "id": "cbdcb84d",
   "metadata": {},
   "source": [
    "## Semilla"
   ]
  },
  {
   "cell_type": "markdown",
   "id": "9f1ea4de",
   "metadata": {},
   "source": [
    "Para que se puedan replicar los experimentos (por ejemplo la inicialización aleatoria de los pesos de la red neuronal que creemos):"
   ]
  },
  {
   "cell_type": "code",
   "execution_count": 6,
   "id": "94387e90",
   "metadata": {},
   "outputs": [],
   "source": [
    "mx.random.seed(128)"
   ]
  },
  {
   "cell_type": "markdown",
   "id": "67147fe9",
   "metadata": {},
   "source": [
    "## Definición de la red y otros parámetros"
   ]
  },
  {
   "cell_type": "markdown",
   "id": "f5ce4a09",
   "metadata": {},
   "source": [
    "### Funciones de creación"
   ]
  },
  {
   "cell_type": "markdown",
   "id": "9dfc2b3e",
   "metadata": {},
   "source": [
    "Definimos funciones que generen un modelo de red neuronal de la forma propia de la API de gluon:"
   ]
  },
  {
   "cell_type": "code",
   "execution_count": 7,
   "id": "c4d5d440",
   "metadata": {
    "scrolled": true
   },
   "outputs": [],
   "source": [
    "def fashion_net():\n",
    "    net = gluon.nn.Sequential()\n",
    "    net.add(gluon.nn.Dense(784, activation='relu'))\n",
    "    net.add(gluon.nn.Dense(392, activation='relu'))\n",
    "    net.add(gluon.nn.Dense(10))\n",
    "    \n",
    "    return net"
   ]
  },
  {
   "cell_type": "markdown",
   "id": "76847a3f",
   "metadata": {},
   "source": [
    "### Función de pérdida"
   ]
  },
  {
   "cell_type": "markdown",
   "id": "0cb32857",
   "metadata": {},
   "source": [
    "También definimos la función de pérdida, que se utilizará en el entrenamiento del modelo."
   ]
  },
  {
   "cell_type": "code",
   "execution_count": 8,
   "id": "f4c4e3e5",
   "metadata": {
    "scrolled": true
   },
   "outputs": [],
   "source": [
    "loss = gluon.loss.SoftmaxCrossEntropyLoss()"
   ]
  },
  {
   "cell_type": "code",
   "execution_count": 9,
   "id": "4142572e",
   "metadata": {},
   "outputs": [],
   "source": [
    "import warnings\n",
    "warnings.simplefilter(action='ignore', category=FutureWarning)"
   ]
  },
  {
   "cell_type": "markdown",
   "id": "4fc4e43e",
   "metadata": {},
   "source": [
    "## Búsqueda del mejor ```alpha```"
   ]
  },
  {
   "cell_type": "code",
   "execution_count": 10,
   "id": "8b8bc58f",
   "metadata": {
    "scrolled": true
   },
   "outputs": [],
   "source": [
    "kfold = KFold(n_splits=5)\n",
    "\n",
    "net = myw.GluonClassifier(model_function=fashion_net, loss_function=loss,\n",
    "                         batch_size=256, epochs=400, optimizer='adam')\n",
    "\n",
    "pipe = Pipeline(steps=[('std_sc', StandardScaler()),\n",
    "                       ('net', net)])\n",
    "    \n",
    "\n",
    "l_alpha = [10.**k for k in range(-6, 1)]\n",
    "grid_params = {'net__alpha': l_alpha} \n",
    "\n",
    "\n",
    "grid_search = GridSearchCV(pipe, grid_params, cv=kfold,\n",
    "                           return_train_score=True,\n",
    "                           verbose=2)"
   ]
  },
  {
   "cell_type": "markdown",
   "id": "cf5e5785",
   "metadata": {},
   "source": [
    "### Búsqueda en rejilla con validación cruzada"
   ]
  },
  {
   "cell_type": "code",
   "execution_count": 11,
   "id": "d4727c5f",
   "metadata": {
    "scrolled": false
   },
   "outputs": [
    {
     "name": "stdout",
     "output_type": "stream",
     "text": [
      "Fitting 5 folds for each of 7 candidates, totalling 35 fits\n",
      "[CV] END ...................................net__alpha=1e-06; total time= 3.3min\n",
      "[CV] END ...................................net__alpha=1e-06; total time= 3.2min\n",
      "[CV] END ...................................net__alpha=1e-06; total time= 3.2min\n",
      "[CV] END ...................................net__alpha=1e-06; total time= 3.2min\n",
      "[CV] END ...................................net__alpha=1e-06; total time= 3.3min\n",
      "[CV] END ...................................net__alpha=1e-05; total time= 3.3min\n",
      "[CV] END ...................................net__alpha=1e-05; total time= 3.2min\n",
      "[CV] END ...................................net__alpha=1e-05; total time= 3.2min\n",
      "[CV] END ...................................net__alpha=1e-05; total time= 3.3min\n",
      "[CV] END ...................................net__alpha=1e-05; total time= 3.3min\n",
      "[CV] END ..................................net__alpha=0.0001; total time= 3.7min\n",
      "[CV] END ..................................net__alpha=0.0001; total time= 3.3min\n",
      "[CV] END ..................................net__alpha=0.0001; total time= 3.8min\n",
      "[CV] END ..................................net__alpha=0.0001; total time= 3.2min\n",
      "[CV] END ..................................net__alpha=0.0001; total time= 3.3min\n",
      "[CV] END ...................................net__alpha=0.001; total time= 3.9min\n",
      "[CV] END ...................................net__alpha=0.001; total time= 3.8min\n",
      "[CV] END ...................................net__alpha=0.001; total time= 4.8min\n",
      "[CV] END ...................................net__alpha=0.001; total time= 3.3min\n",
      "[CV] END ...................................net__alpha=0.001; total time= 3.7min\n",
      "[CV] END ....................................net__alpha=0.01; total time= 3.2min\n",
      "[CV] END ....................................net__alpha=0.01; total time= 3.1min\n",
      "[CV] END ....................................net__alpha=0.01; total time= 3.1min\n",
      "[CV] END ....................................net__alpha=0.01; total time= 3.1min\n",
      "[CV] END ....................................net__alpha=0.01; total time= 3.1min\n",
      "[CV] END .....................................net__alpha=0.1; total time=16.2min\n",
      "[CV] END .....................................net__alpha=0.1; total time=17.0min\n",
      "[CV] END .....................................net__alpha=0.1; total time=17.2min\n",
      "[CV] END .....................................net__alpha=0.1; total time=22.1min\n",
      "[CV] END .....................................net__alpha=0.1; total time=25.7min\n",
      "[CV] END .....................................net__alpha=1.0; total time=58.0min\n",
      "[CV] END .....................................net__alpha=1.0; total time=58.0min\n",
      "[CV] END .....................................net__alpha=1.0; total time=62.9min\n",
      "[CV] END .....................................net__alpha=1.0; total time=60.1min\n",
      "[CV] END .....................................net__alpha=1.0; total time=60.6min\n"
     ]
    },
    {
     "data": {
      "text/plain": [
       "GridSearchCV(cv=KFold(n_splits=5, random_state=None, shuffle=False),\n",
       "             estimator=Pipeline(steps=[('std_sc', StandardScaler()),\n",
       "                                       ('net',\n",
       "                                        GluonClassifier(batch_size=256,\n",
       "                                                        epochs=400,\n",
       "                                                        loss_function=SoftmaxCrossEntropyLoss(batch_axis=0, w=None),\n",
       "                                                        model_function=<function fashion_net at 0x7f9164eca670>,\n",
       "                                                        optimizer='adam'))]),\n",
       "             param_grid={'net__alpha': [1e-06, 1e-05, 0.0001, 0.001, 0.01, 0.1,\n",
       "                                        1.0]},\n",
       "             return_train_score=True, verbose=2)"
      ]
     },
     "execution_count": 11,
     "metadata": {},
     "output_type": "execute_result"
    }
   ],
   "source": [
    "grid_search.fit(X_train, y_train)"
   ]
  },
  {
   "cell_type": "code",
   "execution_count": 12,
   "id": "614d7ba4",
   "metadata": {},
   "outputs": [
    {
     "data": {
      "text/plain": [
       "{'net__alpha': 0.0001}"
      ]
     },
     "execution_count": 12,
     "metadata": {},
     "output_type": "execute_result"
    }
   ],
   "source": [
    "grid_search.best_params_"
   ]
  },
  {
   "cell_type": "markdown",
   "id": "24c68af6",
   "metadata": {},
   "source": [
    "### Evolución con cambio de ```alpha```"
   ]
  },
  {
   "cell_type": "code",
   "execution_count": 13,
   "id": "a0418759",
   "metadata": {
    "scrolled": false
   },
   "outputs": [
    {
     "name": "stdout",
     "output_type": "stream",
     "text": [
      "Rango de 'alpha': 0.000001 - 1.00\n",
      "Mejor 'alpha' = 0.000100\n",
      "Mejor puntuación = 0.857\n"
     ]
    },
    {
     "data": {
      "image/png": "[encoded data removed]",
      "text/plain": [
       "<Figure size 432x288 with 1 Axes>"
      ]
     },
     "metadata": {
      "needs_background": "light"
     },
     "output_type": "display_data"
    }
   ],
   "source": [
    "alpha_range = [10**k for k in range(-6, 1)]\n",
    "print(\"Rango de 'alpha': %f - %.2f\" % (np.array(alpha_range).min(), np.array(alpha_range).max()))\n",
    "print(\"Mejor 'alpha' = %f\" % (grid_search.best_params_['net__alpha']))\n",
    "print(\"Mejor puntuación = %.3f\" % (grid_search.best_score_))\n",
    "\n",
    "plt.xticks(range(len(alpha_range)), alpha_range, rotation=45)\n",
    "_ = plt.plot( grid_search.cv_results_['mean_test_score'])"
   ]
  },
  {
   "cell_type": "markdown",
   "id": "bd88174e",
   "metadata": {},
   "source": [
    "## Validación cruzada"
   ]
  },
  {
   "cell_type": "markdown",
   "id": "083c0c68",
   "metadata": {},
   "source": [
    "Con el mejor estimador obtenido en la búsqueda en rejilla"
   ]
  },
  {
   "cell_type": "markdown",
   "id": "29daeb8a",
   "metadata": {},
   "source": [
    "```cross_val_predict```"
   ]
  },
  {
   "cell_type": "code",
   "execution_count": 35,
   "id": "ab640aac",
   "metadata": {},
   "outputs": [],
   "source": [
    "kfold = KFold(n_splits=5)\n",
    "\n",
    "y_pred_cv = cross_val_predict(grid_search.best_estimator_, X_train, y_train, cv=kfold)"
   ]
  },
  {
   "cell_type": "code",
   "execution_count": 36,
   "id": "61917551",
   "metadata": {},
   "outputs": [
    {
     "name": "stdout",
     "output_type": "stream",
     "text": [
      "Accuracy: 0.805\t\n"
     ]
    }
   ],
   "source": [
    "print(\"Accuracy: %.3f\\t\" % (accuracy_score(y_train, y_pred_cv)))"
   ]
  },
  {
   "cell_type": "code",
   "execution_count": 45,
   "id": "8f8b9d02",
   "metadata": {
    "scrolled": true
   },
   "outputs": [
    {
     "data": {
      "image/png": "[encoded data removed]",
      "text/plain": [
       "<Figure size 432x288 with 2 Axes>"
      ]
     },
     "metadata": {
      "needs_background": "light"
     },
     "output_type": "display_data"
    }
   ],
   "source": [
    "cm = confusion_matrix(y_train, y_pred_cv)\n",
    "disp = ConfusionMatrixDisplay(confusion_matrix=cm)\n",
    "disp.plot()\n",
    "\n",
    "plt.show()"
   ]
  },
  {
   "cell_type": "markdown",
   "id": "fe88749c",
   "metadata": {},
   "source": [
    "## Validación con datos de test"
   ]
  },
  {
   "cell_type": "code",
   "execution_count": 46,
   "id": "f9027e62",
   "metadata": {},
   "outputs": [],
   "source": [
    "net = myw.GluonClassifier(model_function=fashion_net, loss_function=loss,\n",
    "                         batch_size=256, epochs=400, optimizer='adam',\n",
    "                         alpha=1e-4, # el mejor alpha\n",
    "                         verbose=False)\n",
    "# alpha=grid_search.best_params_['net__alpha']\n",
    "pipe = Pipeline(steps=[('std_sc', StandardScaler()),\n",
    "                       ('net', net)])"
   ]
  },
  {
   "cell_type": "code",
   "execution_count": 47,
   "id": "5bce73ff",
   "metadata": {},
   "outputs": [
    {
     "data": {
      "text/plain": [
       "Pipeline(steps=[('std_sc', StandardScaler()),\n",
       "                ('net',\n",
       "                 GluonClassifier(alpha=0.0001, batch_size=256, epochs=400,\n",
       "                                 loss_function=SoftmaxCrossEntropyLoss(batch_axis=0, w=None),\n",
       "                                 model_function=<function fashion_net at 0x7f9164eca670>,\n",
       "                                 optimizer='adam'))])"
      ]
     },
     "execution_count": 47,
     "metadata": {},
     "output_type": "execute_result"
    }
   ],
   "source": [
    "pipe.fit(X_train, y_train)"
   ]
  },
  {
   "cell_type": "code",
   "execution_count": 48,
   "id": "5555ad04",
   "metadata": {},
   "outputs": [],
   "source": [
    "yp = pipe.predict(X_test)"
   ]
  },
  {
   "cell_type": "code",
   "execution_count": 49,
   "id": "3562e75b",
   "metadata": {},
   "outputs": [
    {
     "name": "stdout",
     "output_type": "stream",
     "text": [
      "Accuracy: 0.859\t\n"
     ]
    }
   ],
   "source": [
    "print(\"Accuracy: %.3f\\t\" % (accuracy_score(y_test, yp)))"
   ]
  },
  {
   "cell_type": "code",
   "execution_count": 50,
   "id": "61d8cba2",
   "metadata": {
    "scrolled": true
   },
   "outputs": [
    {
     "data": {
      "image/png": "[encoded data removed]",
      "text/plain": [
       "<Figure size 432x288 with 2 Axes>"
      ]
     },
     "metadata": {
      "needs_background": "light"
     },
     "output_type": "display_data"
    }
   ],
   "source": [
    "cm = confusion_matrix(y_test, yp)\n",
    "disp = ConfusionMatrixDisplay(confusion_matrix=cm)\n",
    "disp.plot()\n",
    "\n",
    "plt.show()"
   ]
  },
  {
   "cell_type": "markdown",
   "id": "e76216f1",
   "metadata": {},
   "source": [
    "# MLPClassifier de scikit-learn"
   ]
  },
  {
   "cell_type": "code",
   "execution_count": 23,
   "id": "3c4d10f9",
   "metadata": {},
   "outputs": [],
   "source": [
    "kfold = KFold(n_splits=5)\n",
    "\n",
    "net = MLPClassifier(hidden_layer_sizes=(784, 392,), solver='adam', max_iter=1000)\n",
    "\n",
    "pipe = Pipeline(steps=[('std_sc', StandardScaler()),\n",
    "                       ('net', net)])"
   ]
  },
  {
   "cell_type": "code",
   "execution_count": 24,
   "id": "53cf0b11",
   "metadata": {},
   "outputs": [
    {
     "name": "stdout",
     "output_type": "stream",
     "text": [
      "Fitting 5 folds for each of 10 candidates, totalling 50 fits\n"
     ]
    },
    {
     "data": {
      "text/plain": [
       "GridSearchCV(cv=KFold(n_splits=5, random_state=None, shuffle=False),\n",
       "             estimator=Pipeline(steps=[('std_sc', StandardScaler()),\n",
       "                                       ('net',\n",
       "                                        MLPClassifier(hidden_layer_sizes=(784,\n",
       "                                                                          392),\n",
       "                                                      max_iter=1000))]),\n",
       "             n_jobs=4,\n",
       "             param_grid={'net__alpha': [1e-05, 0.0001, 0.001, 0.01, 0.1, 1.0,\n",
       "                                        10.0, 100.0, 1000.0, 10000.0]},\n",
       "             return_train_score=True, verbose=1)"
      ]
     },
     "execution_count": 24,
     "metadata": {},
     "output_type": "execute_result"
    }
   ],
   "source": [
    "l_alpha = [10.**k for k in range(-5, 5)]\n",
    "grid_params = {'net__alpha': l_alpha} \n",
    "\n",
    "\n",
    "grid_search = GridSearchCV(pipe, grid_params, cv=kfold,\n",
    "                           return_train_score=True,\n",
    "                           n_jobs=4,\n",
    "                           verbose=1)\n",
    "\n",
    "grid_search.fit(X_train, y_train)"
   ]
  },
  {
   "cell_type": "code",
   "execution_count": 25,
   "id": "ab9fd1e4",
   "metadata": {
    "scrolled": true
   },
   "outputs": [
    {
     "name": "stdout",
     "output_type": "stream",
     "text": [
      "Rango de 'alpha': 0.000010 - 10000.00\n",
      "Mejor 'alpha' = 0.000010\n",
      "Mejor puntuación = 0.855\n"
     ]
    },
    {
     "data": {
      "image/png": "[encoded data removed]",
      "text/plain": [
       "<Figure size 432x288 with 1 Axes>"
      ]
     },
     "metadata": {
      "needs_background": "light"
     },
     "output_type": "display_data"
    }
   ],
   "source": [
    "alpha_range = [10**k for k in range(-5, 5)]\n",
    "print(\"Rango de 'alpha': %f - %.2f\" % (np.array(alpha_range).min(), np.array(alpha_range).max()))\n",
    "print(\"Mejor 'alpha' = %f\" % (grid_search.best_params_['net__alpha']))\n",
    "print(\"Mejor puntuación = %.3f\" % (grid_search.best_score_))\n",
    "\n",
    "plt.xticks(range(len(alpha_range)), alpha_range, rotation=45)\n",
    "_ = plt.plot( grid_search.cv_results_['mean_test_score'])"
   ]
  },
  {
   "cell_type": "markdown",
   "id": "303c4f63",
   "metadata": {},
   "source": [
    "## Validación cruzada"
   ]
  },
  {
   "cell_type": "code",
   "execution_count": 42,
   "id": "8ccc0127",
   "metadata": {},
   "outputs": [],
   "source": [
    "kfold = KFold(n_splits=5)\n",
    "\n",
    "y_pred_cv = cross_val_predict(grid_search.best_estimator_, X_train, y_train, cv=kfold)"
   ]
  },
  {
   "cell_type": "code",
   "execution_count": 43,
   "id": "32cd6ace",
   "metadata": {},
   "outputs": [
    {
     "name": "stdout",
     "output_type": "stream",
     "text": [
      "Acc: 0.805\t\n"
     ]
    }
   ],
   "source": [
    "print(\"Acc: %.3f\\t\" % (accuracy_score(y_train, y_pred_cv)))"
   ]
  },
  {
   "cell_type": "code",
   "execution_count": 44,
   "id": "0a0a89ea",
   "metadata": {},
   "outputs": [
    {
     "data": {
      "image/png": "[encoded data removed]",
      "text/plain": [
       "<Figure size 432x288 with 2 Axes>"
      ]
     },
     "metadata": {
      "needs_background": "light"
     },
     "output_type": "display_data"
    }
   ],
   "source": [
    "cm = confusion_matrix(y_train, y_pred_cv)\n",
    "disp = ConfusionMatrixDisplay(confusion_matrix=cm)\n",
    "disp.plot()\n",
    "\n",
    "plt.show()"
   ]
  },
  {
   "cell_type": "markdown",
   "id": "ea807923",
   "metadata": {},
   "source": [
    "## Validación con datos de test"
   ]
  },
  {
   "cell_type": "code",
   "execution_count": 51,
   "id": "71fa03ba",
   "metadata": {},
   "outputs": [],
   "source": [
    "kfold = KFold(n_splits=5)\n",
    "\n",
    "net = MLPClassifier(hidden_layer_sizes=(784, 392,), solver='adam', max_iter=1000, alpha=1e-5)\n",
    "\n",
    "pipe = Pipeline(steps=[('std_sc', StandardScaler()),\n",
    "                       ('net', net)])"
   ]
  },
  {
   "cell_type": "code",
   "execution_count": 53,
   "id": "6c9ad014",
   "metadata": {},
   "outputs": [
    {
     "data": {
      "text/plain": [
       "Pipeline(steps=[('std_sc', StandardScaler()),\n",
       "                ('net',\n",
       "                 MLPClassifier(alpha=1e-05, hidden_layer_sizes=(784, 392),\n",
       "                               max_iter=1000))])"
      ]
     },
     "execution_count": 53,
     "metadata": {},
     "output_type": "execute_result"
    }
   ],
   "source": [
    "pipe.fit(X_train, y_train)"
   ]
  },
  {
   "cell_type": "code",
   "execution_count": 54,
   "id": "1ac563be",
   "metadata": {},
   "outputs": [],
   "source": [
    "yp = pipe.predict(X_test)"
   ]
  },
  {
   "cell_type": "code",
   "execution_count": 56,
   "id": "027f8485",
   "metadata": {},
   "outputs": [
    {
     "name": "stdout",
     "output_type": "stream",
     "text": [
      "Acc: 0.862\t\n"
     ]
    }
   ],
   "source": [
    "print(\"Acc: %.3f\\t\" % (accuracy_score(y_test, yp)))"
   ]
  },
  {
   "cell_type": "code",
   "execution_count": null,
   "id": "5d8c541f",
   "metadata": {},
   "outputs": [],
   "source": [
    "cm = confusion_matrix(y_test, yp)\n",
    "disp = ConfusionMatrixDisplay(confusion_matrix=cm)\n",
    "disp.plot()\n",
    "\n",
    "plt.show()"
   ]
  },
  {
   "cell_type": "markdown",
   "id": "be868832",
   "metadata": {},
   "source": [
    "# LogisticRegression de scikit-learn"
   ]
  },
  {
   "cell_type": "code",
   "execution_count": 29,
   "id": "04fd9659",
   "metadata": {},
   "outputs": [],
   "source": [
    "from sklearn.linear_model import LogisticRegression\n",
    "\n",
    "kfold = KFold(n_splits=5)\n",
    "\n",
    "lr = LogisticRegression(max_iter=5000, multi_class='multinomial')\n",
    "\n",
    "pipe = Pipeline(steps=[('std_sc', StandardScaler()),\n",
    "                       ('lr', lr)])"
   ]
  },
  {
   "cell_type": "code",
   "execution_count": 30,
   "id": "56b2a15e",
   "metadata": {
    "scrolled": true
   },
   "outputs": [
    {
     "name": "stdout",
     "output_type": "stream",
     "text": [
      "Fitting 5 folds for each of 10 candidates, totalling 50 fits\n"
     ]
    },
    {
     "data": {
      "text/plain": [
       "GridSearchCV(cv=KFold(n_splits=5, random_state=None, shuffle=False),\n",
       "             estimator=Pipeline(steps=[('std_sc', StandardScaler()),\n",
       "                                       ('lr',\n",
       "                                        LogisticRegression(max_iter=5000,\n",
       "                                                           multi_class='multinomial'))]),\n",
       "             n_jobs=4,\n",
       "             param_grid={'lr__C': [1.0, 3.0, 5.0, 7.0, 9.0, 11.0, 13.0, 15.0,\n",
       "                                   17.0, 19.0]},\n",
       "             return_train_score=True, scoring='accuracy', verbose=1)"
      ]
     },
     "execution_count": 30,
     "metadata": {},
     "output_type": "execute_result"
    }
   ],
   "source": [
    "l_C = [1.0 + (k*2) for k in range(0, 10)]\n",
    "grid_params = {'lr__C': l_C} \n",
    "\n",
    "\n",
    "grid_search = GridSearchCV(pipe, grid_params, cv=kfold,\n",
    "                           scoring='accuracy',\n",
    "                           return_train_score=True,\n",
    "                           n_jobs=4,\n",
    "                           verbose=1)\n",
    "\n",
    "grid_search.fit(X_train, y_train)"
   ]
  },
  {
   "cell_type": "code",
   "execution_count": 31,
   "id": "2fb7a96b",
   "metadata": {
    "scrolled": true
   },
   "outputs": [
    {
     "name": "stdout",
     "output_type": "stream",
     "text": [
      "Rango de 'C': 1.000000 - 39.00\n",
      "Mejor 'C' = 1.000000\n",
      "Mejor puntuación = 0.806\n"
     ]
    },
    {
     "data": {
      "image/png": "[encoded data removed]",
      "text/plain": [
       "<Figure size 432x288 with 1 Axes>"
      ]
     },
     "metadata": {
      "needs_background": "light"
     },
     "output_type": "display_data"
    }
   ],
   "source": [
    "C_range = [1.0 + (k*2) for k in range(0, 20)]\n",
    "print(\"Rango de 'C': %f - %.2f\" % (np.array(C_range).min(), np.array(C_range).max()))\n",
    "print(\"Mejor 'C' = %f\" % (grid_search.best_params_['lr__C']))\n",
    "print(\"Mejor puntuación = %.3f\" % (grid_search.best_score_))\n",
    "\n",
    "plt.xticks(range(len(C_range)), C_range, rotation=45)\n",
    "_ = plt.plot(grid_search.cv_results_['mean_test_score'])"
   ]
  },
  {
   "cell_type": "markdown",
   "id": "841a267b",
   "metadata": {},
   "source": [
    "## Validación cruzada"
   ]
  },
  {
   "cell_type": "code",
   "execution_count": 38,
   "id": "72c21bf9",
   "metadata": {},
   "outputs": [],
   "source": [
    "y_pred_cv = cross_val_predict(grid_search.best_estimator_, X_train, y_train, cv=kfold)"
   ]
  },
  {
   "cell_type": "code",
   "execution_count": 39,
   "id": "5e41fa5e",
   "metadata": {},
   "outputs": [
    {
     "name": "stdout",
     "output_type": "stream",
     "text": [
      "Acc: 0.805\t\n"
     ]
    }
   ],
   "source": [
    "print(\"Acc: %.3f\\t\" % (accuracy_score(y_train, y_pred_cv)))"
   ]
  },
  {
   "cell_type": "code",
   "execution_count": 41,
   "id": "f94174b5",
   "metadata": {
    "scrolled": true
   },
   "outputs": [
    {
     "data": {
      "image/png": "[encoded data removed]",
      "text/plain": [
       "<Figure size 432x288 with 2 Axes>"
      ]
     },
     "metadata": {
      "needs_background": "light"
     },
     "output_type": "display_data"
    }
   ],
   "source": [
    "cm = confusion_matrix(y_train, y_pred_cv)\n",
    "disp = ConfusionMatrixDisplay(confusion_matrix=cm)\n",
    "disp.plot()\n",
    "\n",
    "plt.show()"
   ]
  },
  {
   "cell_type": "markdown",
   "id": "7c7fd9e9",
   "metadata": {},
   "source": [
    "## Validación con datos de test"
   ]
  },
  {
   "cell_type": "code",
   "execution_count": 58,
   "id": "5ec7f753",
   "metadata": {},
   "outputs": [],
   "source": [
    "from sklearn.linear_model import LogisticRegression\n",
    "\n",
    "kfold = KFold(n_splits=5)\n",
    "\n",
    "lr = LogisticRegression(max_iter=5000, multi_class='multinomial', C=1.0)\n",
    "\n",
    "pipe = Pipeline(steps=[('std_sc', StandardScaler()),\n",
    "                       ('lr', lr)])"
   ]
  },
  {
   "cell_type": "code",
   "execution_count": 59,
   "id": "b047073c",
   "metadata": {},
   "outputs": [
    {
     "data": {
      "text/plain": [
       "Pipeline(steps=[('std_sc', StandardScaler()),\n",
       "                ('lr',\n",
       "                 LogisticRegression(max_iter=5000, multi_class='multinomial'))])"
      ]
     },
     "execution_count": 59,
     "metadata": {},
     "output_type": "execute_result"
    }
   ],
   "source": [
    "pipe.fit(X_train, y_train)"
   ]
  },
  {
   "cell_type": "code",
   "execution_count": 60,
   "id": "0445a997",
   "metadata": {},
   "outputs": [],
   "source": [
    "yp = pipe.predict(X_test)"
   ]
  },
  {
   "cell_type": "code",
   "execution_count": 62,
   "id": "f4c3ee45",
   "metadata": {},
   "outputs": [
    {
     "name": "stdout",
     "output_type": "stream",
     "text": [
      "Acc: 0.801\t\n"
     ]
    }
   ],
   "source": [
    "print(\"Acc: %.3f\\t\" % (accuracy_score(y_test, yp)))"
   ]
  },
  {
   "cell_type": "code",
   "execution_count": 63,
   "id": "e8fb32bd",
   "metadata": {},
   "outputs": [
    {
     "data": {
      "image/png": "[encoded data removed]",
      "text/plain": [
       "<Figure size 432x288 with 2 Axes>"
      ]
     },
     "metadata": {
      "needs_background": "light"
     },
     "output_type": "display_data"
    }
   ],
   "source": [
    "cm = confusion_matrix(y_test, yp)\n",
    "disp = ConfusionMatrixDisplay(confusion_matrix=cm)\n",
    "disp.plot()\n",
    "\n",
    "plt.show()"
   ]
  }
 ],
 "metadata": {
  "kernelspec": {
   "display_name": "Python 3 (ipykernel)",
   "language": "python",
   "name": "python3"
  },
  "language_info": {
   "codemirror_mode": {
    "name": "ipython",
    "version": 3
   },
   "file_extension": ".py",
   "mimetype": "text/x-python",
   "name": "python",
   "nbconvert_exporter": "python",
   "pygments_lexer": "ipython3",
   "version": "3.8.12"
  }
 },
 "nbformat": 4,
 "nbformat_minor": 5
}
