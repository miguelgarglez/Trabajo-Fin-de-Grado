{
 "cells": [
  {
   "cell_type": "markdown",
   "id": "cf2298ab",
   "metadata": {},
   "source": [
    "# Regresión lineal como red neuronal"
   ]
  },
  {
   "cell_type": "code",
   "execution_count": 1,
   "id": "afa6ce40",
   "metadata": {
    "scrolled": true
   },
   "outputs": [],
   "source": [
    "%load_ext autoreload\n",
    "%autoreload 2"
   ]
  },
  {
   "cell_type": "code",
   "execution_count": 2,
   "id": "fec570be",
   "metadata": {
    "scrolled": true
   },
   "outputs": [],
   "source": [
    "from mxnet import autograd, gluon, np, npx\n",
    "import mxnet as mx\n",
    "\n",
    "from my_wrapper import wrapper as myw\n",
    "\n",
    "from sklearn.preprocessing import StandardScaler\n",
    "from sklearn.pipeline import Pipeline\n",
    "from sklearn.model_selection import KFold\n",
    "from sklearn.model_selection import GridSearchCV\n",
    "from sklearn.compose import TransformedTargetRegressor\n",
    "from sklearn.linear_model import Ridge\n",
    "from sklearn.metrics import mean_absolute_error, mean_squared_error\n",
    "from sklearn.neural_network import MLPRegressor\n",
    "from sklearn.model_selection import cross_val_predict\n",
    "\n",
    "import matplotlib.pyplot as plt\n",
    "\n",
    "import pandas as pd\n",
    "\n",
    "npx.set_np()"
   ]
  },
  {
   "cell_type": "markdown",
   "id": "672b6641",
   "metadata": {},
   "source": [
    "**Librería propia: ```my_wrapper```**\n",
    "\n",
    "Importamos una librería propia que envuelve la implementación de modelos en gluon para que estos sean compatibles con la librería sklearn"
   ]
  },
  {
   "cell_type": "markdown",
   "id": "ecc53df0",
   "metadata": {},
   "source": [
    "## Obtener los datos"
   ]
  },
  {
   "cell_type": "markdown",
   "id": "cd31e43f",
   "metadata": {},
   "source": [
    "### Cargar desde .csv"
   ]
  },
  {
   "cell_type": "code",
   "execution_count": 3,
   "id": "d0d94318",
   "metadata": {
    "scrolled": true
   },
   "outputs": [],
   "source": [
    "df = pd.read_csv('housing.csv')\n",
    "\n",
    "X = df[df.columns[:-1]].values\n",
    "y = df[df.columns[-1]].values.reshape(-1,)"
   ]
  },
  {
   "cell_type": "markdown",
   "id": "8406b520",
   "metadata": {},
   "source": [
    "## Semilla"
   ]
  },
  {
   "cell_type": "markdown",
   "id": "6bb13e39",
   "metadata": {},
   "source": [
    "Para que se puedan replicar los experimentos (por ejemplo la inicialización aleatoria de los pesos de la red neuronal que creemos):"
   ]
  },
  {
   "cell_type": "code",
   "execution_count": 4,
   "id": "dc7180da",
   "metadata": {},
   "outputs": [],
   "source": [
    "mx.random.seed(128)"
   ]
  },
  {
   "cell_type": "markdown",
   "id": "67147fe9",
   "metadata": {},
   "source": [
    "## Definición de la red y otros parámetros"
   ]
  },
  {
   "cell_type": "markdown",
   "id": "f5ce4a09",
   "metadata": {},
   "source": [
    "### Funciones de creación"
   ]
  },
  {
   "cell_type": "markdown",
   "id": "9dfc2b3e",
   "metadata": {},
   "source": [
    "Definimos funciones que generen un modelo de red neuronal de la forma propia de la API de gluon:"
   ]
  },
  {
   "cell_type": "code",
   "execution_count": 5,
   "id": "c4d5d440",
   "metadata": {
    "scrolled": true
   },
   "outputs": [],
   "source": [
    "def basic_net():\n",
    "    net = gluon.nn.Sequential()\n",
    "\n",
    "    net.add(gluon.nn.Dense(1))\n",
    "    \n",
    "    return net"
   ]
  },
  {
   "cell_type": "markdown",
   "id": "76847a3f",
   "metadata": {},
   "source": [
    "### Función de pérdida"
   ]
  },
  {
   "cell_type": "markdown",
   "id": "0cb32857",
   "metadata": {},
   "source": [
    "También definimos la función de pérdida, que se utilizará en el entrenamiento del modelo."
   ]
  },
  {
   "cell_type": "code",
   "execution_count": 6,
   "id": "f4c4e3e5",
   "metadata": {
    "scrolled": true
   },
   "outputs": [],
   "source": [
    "loss = gluon.loss.L2Loss()"
   ]
  },
  {
   "cell_type": "code",
   "execution_count": 7,
   "id": "4142572e",
   "metadata": {},
   "outputs": [],
   "source": [
    "import warnings\n",
    "warnings.simplefilter(action='ignore', category=FutureWarning)"
   ]
  },
  {
   "cell_type": "markdown",
   "id": "4fc4e43e",
   "metadata": {},
   "source": [
    "## Búsqueda del mejor ```alpha```"
   ]
  },
  {
   "cell_type": "code",
   "execution_count": 8,
   "id": "8b8bc58f",
   "metadata": {},
   "outputs": [
    {
     "name": "stdout",
     "output_type": "stream",
     "text": [
      "Fitting 10 folds for each of 12 candidates, totalling 120 fits\n"
     ]
    },
    {
     "data": {
      "text/plain": [
       "GridSearchCV(cv=KFold(n_splits=10, random_state=7, shuffle=True),\n",
       "             estimator=TransformedTargetRegressor(regressor=Pipeline(steps=[('std_sc',\n",
       "                                                                             StandardScaler()),\n",
       "                                                                            ('net',\n",
       "                                                                             GluonRegressor(batch_size=200,\n",
       "                                                                                            epochs=2000,\n",
       "                                                                                            loss_function=L2Loss(batch_axis=0, w=1.0),\n",
       "                                                                                            model_function=<function basic_net at 0x7f992c22df70>,\n",
       "                                                                                            optimizer='adam'))]),\n",
       "                                                  transformer=StandardScaler()),\n",
       "             param_grid={'regressor__net__alpha': [1e-10, 1e-09, 1e-08, 1e-07,\n",
       "                                                   1e-06, 1e-05, 0.0001, 0.001,\n",
       "                                                   0.01, 0.1, 1.0, 10.0]},\n",
       "             return_train_score=True, scoring='neg_mean_absolute_error',\n",
       "             verbose=1)"
      ]
     },
     "execution_count": 8,
     "metadata": {},
     "output_type": "execute_result"
    }
   ],
   "source": [
    "kfold = KFold(n_splits=10, shuffle=True, random_state=7)\n",
    "\n",
    "net = myw.GluonRegressor(model_function=basic_net, loss_function=loss,\n",
    "                         batch_size=200, epochs=2000, optimizer='adam')\n",
    "\n",
    "pipe = Pipeline(steps=[('std_sc', StandardScaler()),\n",
    "                       ('net', net)])\n",
    "    \n",
    "scaler = StandardScaler()\n",
    "ttr = TransformedTargetRegressor(regressor=pipe,\n",
    "                                 transformer=scaler)\n",
    "\n",
    "l_alpha = [10.**k for k in range(-10, 2)]\n",
    "grid_params = {'regressor__net__alpha': l_alpha} \n",
    "\n",
    "\n",
    "grid_search = GridSearchCV(ttr, grid_params, cv=kfold,\n",
    "                           scoring='neg_mean_absolute_error',\n",
    "                           return_train_score=True,\n",
    "                           verbose=1)\n",
    "\n",
    "grid_search.fit(X, y)"
   ]
  },
  {
   "cell_type": "code",
   "execution_count": 9,
   "id": "614d7ba4",
   "metadata": {},
   "outputs": [
    {
     "data": {
      "text/plain": [
       "{'regressor__net__alpha': 0.1}"
      ]
     },
     "execution_count": 9,
     "metadata": {},
     "output_type": "execute_result"
    }
   ],
   "source": [
    "grid_search.best_params_"
   ]
  },
  {
   "cell_type": "markdown",
   "id": "24c68af6",
   "metadata": {},
   "source": [
    "### Evolución con cambio de ```alpha```"
   ]
  },
  {
   "cell_type": "code",
   "execution_count": 10,
   "id": "a0418759",
   "metadata": {
    "scrolled": true
   },
   "outputs": [
    {
     "name": "stdout",
     "output_type": "stream",
     "text": [
      "Rango de 'alpha': 0.000000 - 10.00\n",
      "Mejor 'alpha' = 0.100000\n",
      "Mejor puntuación = 3.330\n"
     ]
    },
    {
     "data": {
      "image/png": "[encoded data removed]",
      "text/plain": [
       "<Figure size 432x288 with 1 Axes>"
      ]
     },
     "metadata": {
      "needs_background": "light"
     },
     "output_type": "display_data"
    }
   ],
   "source": [
    "alpha_range = [10**k for k in range(-10, 2)]\n",
    "print(\"Rango de 'alpha': %f - %.2f\" % (np.array(alpha_range).min(), np.array(alpha_range).max()))\n",
    "print(\"Mejor 'alpha' = %f\" % (grid_search.best_params_['regressor__net__alpha']))\n",
    "print(\"Mejor puntuación = %.3f\" % (-grid_search.best_score_))\n",
    "\n",
    "plt.xticks(range(len(alpha_range)), alpha_range, rotation=45)\n",
    "_ = plt.plot( -grid_search.cv_results_['mean_test_score'])"
   ]
  },
  {
   "cell_type": "markdown",
   "id": "675db290",
   "metadata": {},
   "source": [
    "## Validación cruzada"
   ]
  },
  {
   "cell_type": "markdown",
   "id": "c60dde13",
   "metadata": {},
   "source": [
    "```cross_val_predict```"
   ]
  },
  {
   "cell_type": "code",
   "execution_count": 11,
   "id": "e657a353",
   "metadata": {},
   "outputs": [],
   "source": [
    "kfold = KFold(n_splits=10, shuffle=True, random_state=7)\n",
    "\n",
    "y_pred_cv = cross_val_predict(grid_search.best_estimator_, X, y, cv=kfold)"
   ]
  },
  {
   "cell_type": "code",
   "execution_count": 12,
   "id": "6be63192",
   "metadata": {},
   "outputs": [
    {
     "name": "stdout",
     "output_type": "stream",
     "text": [
      "MAE: 3.330\t\n"
     ]
    }
   ],
   "source": [
    "print(\"MAE: %.3f\\t\" % (mean_absolute_error(y, y_pred_cv)))"
   ]
  },
  {
   "cell_type": "code",
   "execution_count": 13,
   "id": "9deee635",
   "metadata": {},
   "outputs": [
    {
     "name": "stdout",
     "output_type": "stream",
     "text": [
      "MSE: 24.314\t\n"
     ]
    }
   ],
   "source": [
    "print(\"MSE: %.3f\\t\" % (mean_squared_error(y, y_pred_cv)))"
   ]
  },
  {
   "cell_type": "code",
   "execution_count": 14,
   "id": "40402eb6",
   "metadata": {
    "scrolled": true
   },
   "outputs": [
    {
     "data": {
      "image/png": "[encoded data removed]",
      "text/plain": [
       "<Figure size 432x288 with 1 Axes>"
      ]
     },
     "metadata": {
      "needs_background": "light"
     },
     "output_type": "display_data"
    }
   ],
   "source": [
    "_ = plt.plot(y, y_pred_cv, '.', y, y, '-')"
   ]
  },
  {
   "cell_type": "markdown",
   "id": "4b2f7be3",
   "metadata": {},
   "source": [
    "# MLPRegressor de scikit-learn"
   ]
  },
  {
   "cell_type": "code",
   "execution_count": 15,
   "id": "d43da3ac",
   "metadata": {},
   "outputs": [],
   "source": [
    "kfold = KFold(n_splits=10, shuffle=True, random_state=7)\n",
    "\n",
    "net = MLPRegressor(hidden_layer_sizes=(), solver='adam', max_iter=2000)\n",
    "\n",
    "pipe = Pipeline(steps=[('std_sc', StandardScaler()),\n",
    "                       ('net', net)])"
   ]
  },
  {
   "cell_type": "code",
   "execution_count": 16,
   "id": "9612d9f3",
   "metadata": {},
   "outputs": [
    {
     "name": "stdout",
     "output_type": "stream",
     "text": [
      "Fitting 10 folds for each of 21 candidates, totalling 210 fits\n"
     ]
    },
    {
     "data": {
      "text/plain": [
       "GridSearchCV(cv=KFold(n_splits=10, random_state=7, shuffle=True),\n",
       "             estimator=TransformedTargetRegressor(regressor=Pipeline(steps=[('std_sc',\n",
       "                                                                             StandardScaler()),\n",
       "                                                                            ('net',\n",
       "                                                                             MLPRegressor(hidden_layer_sizes=(),\n",
       "                                                                                          max_iter=2000))]),\n",
       "                                                  transformer=StandardScaler()),\n",
       "             n_jobs=4,\n",
       "             param_grid={'regressor__net__alpha': [1e-15, 1e-14, 1e-13, 1e-12,\n",
       "                                                   1e-11, 1e-10, 1e-09, 1e-08,\n",
       "                                                   1e-07, 1e-06, 1e-05, 0.0001,\n",
       "                                                   0.001, 0.01, 0.1, 1.0, 10.0,\n",
       "                                                   100.0, 1000.0, 10000.0,\n",
       "                                                   100000.0]},\n",
       "             return_train_score=True, scoring='neg_mean_absolute_error',\n",
       "             verbose=1)"
      ]
     },
     "execution_count": 16,
     "metadata": {},
     "output_type": "execute_result"
    }
   ],
   "source": [
    "scaler = StandardScaler()\n",
    "ttr = TransformedTargetRegressor(regressor=pipe,\n",
    "                                 transformer=scaler)\n",
    "\n",
    "l_alpha = [10.**k for k in range(-15, 6)]\n",
    "grid_params = {'regressor__net__alpha': l_alpha} \n",
    "\n",
    "\n",
    "grid_search = GridSearchCV(ttr, grid_params, cv=kfold,\n",
    "                           scoring='neg_mean_absolute_error',\n",
    "                           return_train_score=True,\n",
    "                           n_jobs=4,\n",
    "                           verbose=1)\n",
    "\n",
    "grid_search.fit(X, y)"
   ]
  },
  {
   "cell_type": "code",
   "execution_count": 17,
   "id": "c63e64f7",
   "metadata": {
    "scrolled": true
   },
   "outputs": [
    {
     "name": "stdout",
     "output_type": "stream",
     "text": [
      "Rango de 'alpha': 0.000000 - 100000.00\n",
      "Mejor 'alpha' = 0.000000\n",
      "Mejor puntuación = 3.388\n"
     ]
    },
    {
     "data": {
      "image/png": "[encoded data removed]",
      "text/plain": [
       "<Figure size 432x288 with 1 Axes>"
      ]
     },
     "metadata": {
      "needs_background": "light"
     },
     "output_type": "display_data"
    }
   ],
   "source": [
    "alpha_range = [10**k for k in range(-15, 6)]\n",
    "print(\"Rango de 'alpha': %f - %.2f\" % (np.array(alpha_range).min(), np.array(alpha_range).max()))\n",
    "print(\"Mejor 'alpha' = %f\" % (grid_search.best_params_['regressor__net__alpha']))\n",
    "print(\"Mejor puntuación = %.3f\" % (-grid_search.best_score_))\n",
    "\n",
    "plt.xticks(range(len(alpha_range)), alpha_range, rotation=45)\n",
    "_ = plt.plot( -grid_search.cv_results_['mean_test_score'])"
   ]
  },
  {
   "cell_type": "markdown",
   "id": "885522df",
   "metadata": {},
   "source": [
    "## Validación cruzada"
   ]
  },
  {
   "cell_type": "code",
   "execution_count": 18,
   "id": "f04dfb45",
   "metadata": {},
   "outputs": [],
   "source": [
    "yp = cross_val_predict(grid_search.best_estimator_, X, y, cv=kfold)"
   ]
  },
  {
   "cell_type": "code",
   "execution_count": 19,
   "id": "a2814bd0",
   "metadata": {},
   "outputs": [
    {
     "name": "stdout",
     "output_type": "stream",
     "text": [
      "MAE: 3.482\t\n"
     ]
    }
   ],
   "source": [
    "from sklearn.metrics import mean_absolute_error\n",
    "\n",
    "print(\"MAE: %.3f\\t\" % (mean_absolute_error(y, yp)))"
   ]
  },
  {
   "cell_type": "code",
   "execution_count": 20,
   "id": "bcf2b72e",
   "metadata": {},
   "outputs": [
    {
     "name": "stdout",
     "output_type": "stream",
     "text": [
      "MSE: 24.749\t\n"
     ]
    }
   ],
   "source": [
    "from sklearn.metrics import mean_squared_error\n",
    "\n",
    "print(\"MSE: %.3f\\t\" % (mean_squared_error(y, yp)))"
   ]
  },
  {
   "cell_type": "code",
   "execution_count": 21,
   "id": "aa20b11f",
   "metadata": {},
   "outputs": [
    {
     "data": {
      "image/png": "[encoded data removed]",
      "text/plain": [
       "<Figure size 432x288 with 1 Axes>"
      ]
     },
     "metadata": {
      "needs_background": "light"
     },
     "output_type": "display_data"
    }
   ],
   "source": [
    "import matplotlib.pyplot as plt\n",
    "\n",
    "_ = plt.plot(y, yp, '.', y, y, '-')"
   ]
  }
 ],
 "metadata": {
  "kernelspec": {
   "display_name": "Python 3 (ipykernel)",
   "language": "python",
   "name": "python3"
  },
  "language_info": {
   "codemirror_mode": {
    "name": "ipython",
    "version": 3
   },
   "file_extension": ".py",
   "mimetype": "text/x-python",
   "name": "python",
   "nbconvert_exporter": "python",
   "pygments_lexer": "ipython3",
   "version": "3.8.12"
  }
 },
 "nbformat": 4,
 "nbformat_minor": 5
}
