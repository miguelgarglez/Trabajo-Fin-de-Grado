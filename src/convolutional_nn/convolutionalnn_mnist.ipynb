{
 "cells": [
  {
   "cell_type": "markdown",
   "id": "cf2298ab",
   "metadata": {},
   "source": [
    "# Red convolucional para Fashion-MNIST "
   ]
  },
  {
   "cell_type": "code",
   "execution_count": 1,
   "id": "afa6ce40",
   "metadata": {
    "scrolled": true
   },
   "outputs": [],
   "source": [
    "%load_ext autoreload\n",
    "%autoreload 2"
   ]
  },
  {
   "cell_type": "code",
   "execution_count": 2,
   "id": "fec570be",
   "metadata": {
    "scrolled": true
   },
   "outputs": [],
   "source": [
    "from mxnet import autograd, gluon, npx\n",
    "import mxnet as mx\n",
    "from my_wrapper import wrapper as myw\n",
    "from mxnet.gluon.data.vision import datasets, transforms\n",
    "\n",
    "from sklearn.preprocessing import StandardScaler\n",
    "from sklearn.pipeline import Pipeline\n",
    "from sklearn.model_selection import KFold\n",
    "from sklearn.model_selection import GridSearchCV\n",
    "from sklearn.metrics import mean_absolute_error, mean_squared_error, accuracy_score\n",
    "from sklearn.metrics import confusion_matrix, ConfusionMatrixDisplay\n",
    "from sklearn.neural_network import MLPClassifier\n",
    "from sklearn.model_selection import cross_val_predict\n",
    "\n",
    "import matplotlib.pyplot as plt\n",
    "\n",
    "import pandas as pd\n",
    "import numpy as np\n",
    "\n",
    "npx.set_np()"
   ]
  },
  {
   "cell_type": "markdown",
   "id": "672b6641",
   "metadata": {},
   "source": [
    "**Librería propia: ```my_wrapper```**\n",
    "\n",
    "Importamos una librería propia que envuelve la implementación de modelos en gluon para que estos sean compatibles con la librería sklearn"
   ]
  },
  {
   "cell_type": "markdown",
   "id": "ecc53df0",
   "metadata": {},
   "source": [
    "## Obtener los datos"
   ]
  },
  {
   "cell_type": "markdown",
   "id": "b3df7e61",
   "metadata": {},
   "source": [
    "### Cargar desde .csv"
   ]
  },
  {
   "cell_type": "code",
   "execution_count": 3,
   "id": "99820d06",
   "metadata": {},
   "outputs": [],
   "source": [
    "df_train = pd.read_csv('fashion-mnist_train.csv')\n",
    "df_test = pd.read_csv('fashion-mnist_test.csv')\n",
    "\n",
    "# permutamos filas y cogemos solo una fracción de los datos\n",
    "df_train = df_train.sample(frac=0.1, random_state=7)\n",
    "df_test = df_test.sample(frac=0.1, random_state=7)"
   ]
  },
  {
   "cell_type": "markdown",
   "id": "3d38d9dc",
   "metadata": {},
   "source": [
    "Cogeremos únicamente 6.000 entradas de las 60.000 de train, y 1.000 entradas de las 10.000 de test."
   ]
  },
  {
   "cell_type": "code",
   "execution_count": 4,
   "id": "50191fa2",
   "metadata": {},
   "outputs": [],
   "source": [
    "X_train = df_train[df_train.columns[1:]].values\n",
    "y_train = df_train[df_train.columns[0]].values.reshape(-1,)\n",
    "\n",
    "X_test = df_test[df_test.columns[1:]].values\n",
    "y_test = df_test[df_test.columns[0]].values.reshape(-1,)"
   ]
  },
  {
   "cell_type": "markdown",
   "id": "cbdcb84d",
   "metadata": {},
   "source": [
    "## Semilla"
   ]
  },
  {
   "cell_type": "markdown",
   "id": "9f1ea4de",
   "metadata": {},
   "source": [
    "Para que se puedan replicar los experimentos (por ejemplo la inicialización aleatoria de los pesos de la red neuronal que creemos):"
   ]
  },
  {
   "cell_type": "code",
   "execution_count": 5,
   "id": "94387e90",
   "metadata": {},
   "outputs": [],
   "source": [
    "mx.random.seed(128)"
   ]
  },
  {
   "cell_type": "markdown",
   "id": "67147fe9",
   "metadata": {},
   "source": [
    "## Definición de la red y otros parámetros"
   ]
  },
  {
   "cell_type": "markdown",
   "id": "f5ce4a09",
   "metadata": {},
   "source": [
    "### Funciones de creación"
   ]
  },
  {
   "cell_type": "markdown",
   "id": "9dfc2b3e",
   "metadata": {},
   "source": [
    "Definimos funciones que generen un modelo de red neuronal de la forma propia de la API de gluon:"
   ]
  },
  {
   "cell_type": "code",
   "execution_count": 6,
   "id": "c4d5d440",
   "metadata": {
    "scrolled": true
   },
   "outputs": [],
   "source": [
    "def fashion_net():\n",
    "    net = gluon.nn.Sequential()\n",
    "\n",
    "    net.add(gluon.nn.Conv2D(channels=64, kernel_size=3, strides=1, padding=1))\n",
    "    net.add(gluon.nn.BatchNorm())\n",
    "    net.add(gluon.nn.Activation('relu'))\n",
    "    net.add(gluon.nn.MaxPool2D(pool_size=2, strides=2, padding=0))\n",
    "    net.add(gluon.nn.Dropout(rate=0.3))\n",
    "    \n",
    "    net.add(gluon.nn.Conv2D(channels=64, kernel_size=3, strides=1))\n",
    "    net.add(gluon.nn.BatchNorm())\n",
    "    net.add(gluon.nn.Activation('relu'))\n",
    "    net.add(gluon.nn.MaxPool2D(pool_size=2, strides=2, padding=0))\n",
    "    net.add(gluon.nn.Dropout(rate=0.3))\n",
    "    \n",
    "    net.add(gluon.nn.Dense(256))\n",
    "    net.add(gluon.nn.BatchNorm())\n",
    "    net.add(gluon.nn.Activation('relu'))\n",
    "    net.add(gluon.nn.Dropout(rate=0.3))\n",
    "    \n",
    "    net.add(gluon.nn.Dense(64))\n",
    "    net.add(gluon.nn.BatchNorm())\n",
    "    net.add(gluon.nn.Activation('relu'))\n",
    "    net.add(gluon.nn.Dropout(rate=0.3))\n",
    "    \n",
    "    net.add(gluon.nn.Dense(10))\n",
    "    \n",
    "    return net"
   ]
  },
  {
   "cell_type": "markdown",
   "id": "76847a3f",
   "metadata": {},
   "source": [
    "### Función de pérdida"
   ]
  },
  {
   "cell_type": "markdown",
   "id": "0cb32857",
   "metadata": {},
   "source": [
    "También definimos la función de pérdida, que se utilizará en el entrenamiento del modelo."
   ]
  },
  {
   "cell_type": "code",
   "execution_count": 7,
   "id": "f4c4e3e5",
   "metadata": {
    "scrolled": true
   },
   "outputs": [],
   "source": [
    "loss = gluon.loss.SoftmaxCrossEntropyLoss()"
   ]
  },
  {
   "cell_type": "code",
   "execution_count": 8,
   "id": "4142572e",
   "metadata": {},
   "outputs": [],
   "source": [
    "import warnings\n",
    "warnings.simplefilter(action='ignore', category=FutureWarning)"
   ]
  },
  {
   "cell_type": "markdown",
   "id": "4fc4e43e",
   "metadata": {},
   "source": [
    "## Búsqueda del mejor ```alpha```"
   ]
  },
  {
   "cell_type": "code",
   "execution_count": 9,
   "id": "8b8bc58f",
   "metadata": {
    "scrolled": true
   },
   "outputs": [],
   "source": [
    "kfold = KFold(n_splits=5)\n",
    "\n",
    "net = myw.GluonClassifier(model_function=fashion_net, loss_function=loss,\n",
    "                         batch_size=256, epochs=100, optimizer='adam',\n",
    "                         verbose=False, format_img_data=(1, 28, 28))\n",
    "\n",
    "pipe = Pipeline(steps=[('std_sc', StandardScaler()),\n",
    "                       ('net', net)])\n",
    "    \n",
    "\n",
    "l_alpha = [10.**k for k in range(-7, 0)]\n",
    "grid_params = {'net__alpha': l_alpha} \n",
    "\n",
    "\n",
    "grid_search = GridSearchCV(pipe, grid_params, cv=kfold,\n",
    "                           return_train_score=True,\n",
    "                           verbose=3)"
   ]
  },
  {
   "cell_type": "markdown",
   "id": "6c1a44f7",
   "metadata": {},
   "source": [
    "### Búsqueda en rejilla con validación cruzada"
   ]
  },
  {
   "cell_type": "code",
   "execution_count": 10,
   "id": "53ddafbe",
   "metadata": {},
   "outputs": [
    {
     "name": "stdout",
     "output_type": "stream",
     "text": [
      "Fitting 5 folds for each of 7 candidates, totalling 35 fits\n",
      "[CV 1/5] END net__alpha=1e-07;, score=(train=1.000, test=0.855) total time= 4.3min\n",
      "[CV 2/5] END net__alpha=1e-07;, score=(train=1.000, test=0.860) total time= 4.3min\n",
      "[CV 3/5] END net__alpha=1e-07;, score=(train=1.000, test=0.860) total time= 4.2min\n",
      "[CV 4/5] END net__alpha=1e-07;, score=(train=1.000, test=0.805) total time= 4.1min\n",
      "[CV 5/5] END net__alpha=1e-07;, score=(train=1.000, test=0.875) total time= 4.1min\n",
      "[CV 1/5] END net__alpha=1e-06;, score=(train=1.000, test=0.845) total time= 3.9min\n",
      "[CV 2/5] END net__alpha=1e-06;, score=(train=1.000, test=0.860) total time= 3.5min\n",
      "[CV 3/5] END net__alpha=1e-06;, score=(train=1.000, test=0.860) total time= 3.5min\n",
      "[CV 4/5] END net__alpha=1e-06;, score=(train=1.000, test=0.820) total time= 3.5min\n",
      "[CV 5/5] END net__alpha=1e-06;, score=(train=1.000, test=0.845) total time= 3.5min\n",
      "[CV 1/5] END net__alpha=1e-05;, score=(train=1.000, test=0.845) total time= 3.5min\n",
      "[CV 2/5] END net__alpha=1e-05;, score=(train=1.000, test=0.850) total time= 3.5min\n",
      "[CV 3/5] END net__alpha=1e-05;, score=(train=1.000, test=0.865) total time= 3.5min\n",
      "[CV 4/5] END net__alpha=1e-05;, score=(train=1.000, test=0.810) total time= 3.5min\n",
      "[CV 5/5] END net__alpha=1e-05;, score=(train=1.000, test=0.865) total time= 3.5min\n",
      "[CV 1/5] END net__alpha=0.0001;, score=(train=1.000, test=0.835) total time= 3.5min\n",
      "[CV 2/5] END net__alpha=0.0001;, score=(train=1.000, test=0.825) total time= 3.5min\n",
      "[CV 3/5] END net__alpha=0.0001;, score=(train=1.000, test=0.835) total time= 3.5min\n",
      "[CV 4/5] END net__alpha=0.0001;, score=(train=1.000, test=0.820) total time= 3.5min\n",
      "[CV 5/5] END net__alpha=0.0001;, score=(train=1.000, test=0.835) total time= 3.5min\n",
      "[CV 1/5] END net__alpha=0.001;, score=(train=1.000, test=0.820) total time= 3.5min\n",
      "[CV 2/5] END net__alpha=0.001;, score=(train=1.000, test=0.840) total time= 3.5min\n",
      "[CV 3/5] END net__alpha=0.001;, score=(train=1.000, test=0.875) total time= 3.4min\n",
      "[CV 4/5] END net__alpha=0.001;, score=(train=1.000, test=0.830) total time= 3.5min\n",
      "[CV 5/5] END net__alpha=0.001;, score=(train=1.000, test=0.870) total time= 3.5min\n",
      "[CV 1/5] END net__alpha=0.01;, score=(train=1.000, test=0.850) total time= 3.5min\n",
      "[CV 2/5] END net__alpha=0.01;, score=(train=1.000, test=0.860) total time= 3.5min\n",
      "[CV 3/5] END net__alpha=0.01;, score=(train=1.000, test=0.840) total time= 3.5min\n",
      "[CV 4/5] END net__alpha=0.01;, score=(train=1.000, test=0.795) total time= 3.5min\n",
      "[CV 5/5] END net__alpha=0.01;, score=(train=1.000, test=0.885) total time= 3.5min\n",
      "[CV 1/5] END net__alpha=0.1;, score=(train=0.996, test=0.830) total time= 3.5min\n",
      "[CV 2/5] END net__alpha=0.1;, score=(train=0.989, test=0.830) total time= 3.5min\n",
      "[CV 3/5] END net__alpha=0.1;, score=(train=0.995, test=0.790) total time= 3.5min\n",
      "[CV 4/5] END net__alpha=0.1;, score=(train=0.981, test=0.780) total time= 3.5min\n",
      "[CV 5/5] END net__alpha=0.1;, score=(train=0.978, test=0.845) total time= 3.5min\n"
     ]
    },
    {
     "data": {
      "text/plain": [
       "GridSearchCV(cv=KFold(n_splits=5, random_state=None, shuffle=False),\n",
       "             estimator=Pipeline(steps=[('std_sc', StandardScaler()),\n",
       "                                       ('net',\n",
       "                                        GluonClassifier(batch_size=256,\n",
       "                                                        epochs=100,\n",
       "                                                        format_img_data=(1, 28,\n",
       "                                                                         28),\n",
       "                                                        loss_function=SoftmaxCrossEntropyLoss(batch_axis=0, w=None),\n",
       "                                                        model_function=<function fashion_net at 0x7f785f60f820>,\n",
       "                                                        optimizer='adam'))]),\n",
       "             param_grid={'net__alpha': [1e-07, 1e-06, 1e-05, 0.0001, 0.001,\n",
       "                                        0.01, 0.1]},\n",
       "             return_train_score=True, verbose=3)"
      ]
     },
     "execution_count": 10,
     "metadata": {},
     "output_type": "execute_result"
    }
   ],
   "source": [
    "grid_search.fit(X_test, y_test)"
   ]
  },
  {
   "cell_type": "code",
   "execution_count": 11,
   "id": "614d7ba4",
   "metadata": {},
   "outputs": [
    {
     "data": {
      "text/plain": [
       "{'net__alpha': 1e-07}"
      ]
     },
     "execution_count": 11,
     "metadata": {},
     "output_type": "execute_result"
    }
   ],
   "source": [
    "grid_search.best_params_"
   ]
  },
  {
   "cell_type": "markdown",
   "id": "24c68af6",
   "metadata": {},
   "source": [
    "### Evolución con cambio de ```alpha```"
   ]
  },
  {
   "cell_type": "code",
   "execution_count": 12,
   "id": "a0418759",
   "metadata": {
    "scrolled": false
   },
   "outputs": [
    {
     "name": "stdout",
     "output_type": "stream",
     "text": [
      "Rango de 'alpha': 0.000000 - 0.10\n",
      "Mejor 'alpha' = 0.000000\n",
      "Mejor puntuación = 0.851\n"
     ]
    },
    {
     "data": {
      "image/png": "[encoded data removed]",
      "text/plain": [
       "<Figure size 432x288 with 1 Axes>"
      ]
     },
     "metadata": {
      "needs_background": "light"
     },
     "output_type": "display_data"
    }
   ],
   "source": [
    "alpha_range = [10**k for k in range(-7, 0)]\n",
    "print(\"Rango de 'alpha': %f - %.2f\" % (np.array(alpha_range).min(), np.array(alpha_range).max()))\n",
    "print(\"Mejor 'alpha' = %f\" % (grid_search.best_params_['net__alpha']))\n",
    "print(\"Mejor puntuación = %.3f\" % (grid_search.best_score_))\n",
    "\n",
    "plt.xticks(range(len(alpha_range)), alpha_range, rotation=45)\n",
    "_ = plt.plot( grid_search.cv_results_['mean_test_score'])"
   ]
  },
  {
   "cell_type": "markdown",
   "id": "60639097",
   "metadata": {},
   "source": [
    "## Validación con datos de test"
   ]
  },
  {
   "cell_type": "code",
   "execution_count": 23,
   "id": "64b2d471",
   "metadata": {},
   "outputs": [],
   "source": [
    "net = myw.GluonClassifier(model_function=fashion_net, loss_function=loss,\n",
    "                         batch_size=256, epochs=100, optimizer='adam',\n",
    "                         alpha=grid_search.best_params_['net__alpha'],\n",
    "                         verbose=False, format_img_data=(1, 28, 28))\n",
    "\n",
    "pipe = Pipeline(steps=[('std_sc', StandardScaler()),\n",
    "                       ('net', net)])"
   ]
  },
  {
   "cell_type": "code",
   "execution_count": 24,
   "id": "f4820b2a",
   "metadata": {},
   "outputs": [
    {
     "data": {
      "text/plain": [
       "Pipeline(steps=[('std_sc', StandardScaler()),\n",
       "                ('net',\n",
       "                 GluonClassifier(alpha=1e-07, batch_size=256, epochs=100,\n",
       "                                 format_img_data=(1, 28, 28),\n",
       "                                 loss_function=SoftmaxCrossEntropyLoss(batch_axis=0, w=None),\n",
       "                                 model_function=<function fashion_net at 0x7f785f60f820>,\n",
       "                                 optimizer='adam'))])"
      ]
     },
     "execution_count": 24,
     "metadata": {},
     "output_type": "execute_result"
    }
   ],
   "source": [
    "pipe.fit(X_train, y_train)"
   ]
  },
  {
   "cell_type": "code",
   "execution_count": 25,
   "id": "9fd171ee",
   "metadata": {},
   "outputs": [],
   "source": [
    "yp = pipe.predict(X_test)"
   ]
  },
  {
   "cell_type": "code",
   "execution_count": 26,
   "id": "217982fb",
   "metadata": {},
   "outputs": [
    {
     "name": "stdout",
     "output_type": "stream",
     "text": [
      "Accuracy: 0.895\t\n"
     ]
    }
   ],
   "source": [
    "print(\"Accuracy: %.3f\\t\" % (accuracy_score(y_test, yp)))"
   ]
  },
  {
   "cell_type": "code",
   "execution_count": 27,
   "id": "9136d32a",
   "metadata": {},
   "outputs": [
    {
     "data": {
      "image/png": "[encoded data removed]",
      "text/plain": [
       "<Figure size 432x288 with 2 Axes>"
      ]
     },
     "metadata": {
      "needs_background": "light"
     },
     "output_type": "display_data"
    }
   ],
   "source": [
    "cm = confusion_matrix(y_test, yp)\n",
    "disp = ConfusionMatrixDisplay(confusion_matrix=cm)\n",
    "disp.plot()\n",
    "\n",
    "plt.show()"
   ]
  },
  {
   "cell_type": "markdown",
   "id": "bd88174e",
   "metadata": {},
   "source": [
    "## Validación cruzada"
   ]
  },
  {
   "cell_type": "markdown",
   "id": "942a512f",
   "metadata": {},
   "source": [
    "Con el mejor estimador obtenido en la búsqueda en rejilla"
   ]
  },
  {
   "cell_type": "markdown",
   "id": "29daeb8a",
   "metadata": {},
   "source": [
    "```cross_val_predict```"
   ]
  },
  {
   "cell_type": "code",
   "execution_count": 18,
   "id": "ab640aac",
   "metadata": {},
   "outputs": [],
   "source": [
    "kfold = KFold(n_splits=5)\n",
    "\n",
    "y_pred_cv = cross_val_predict(grid_search.best_estimator_, X_test, y_test, cv=kfold)#grid_search.best_estimator_"
   ]
  },
  {
   "cell_type": "code",
   "execution_count": 20,
   "id": "61917551",
   "metadata": {
    "scrolled": true
   },
   "outputs": [
    {
     "name": "stdout",
     "output_type": "stream",
     "text": [
      "Accuracy: 0.842\t\n"
     ]
    }
   ],
   "source": [
    "print(\"Accuracy: %.3f\\t\" % (accuracy_score(y_test, y_pred_cv)))"
   ]
  },
  {
   "cell_type": "code",
   "execution_count": 22,
   "id": "8f8b9d02",
   "metadata": {},
   "outputs": [
    {
     "data": {
      "image/png": "[encoded data removed]",
      "text/plain": [
       "<Figure size 432x288 with 2 Axes>"
      ]
     },
     "metadata": {
      "needs_background": "light"
     },
     "output_type": "display_data"
    }
   ],
   "source": [
    "from sklearn.metrics import confusion_matrix, ConfusionMatrixDisplay\n",
    "\n",
    "cm = confusion_matrix(y_test, y_pred_cv)\n",
    "disp = ConfusionMatrixDisplay(confusion_matrix=cm)\n",
    "disp.plot()\n",
    "\n",
    "plt.show()"
   ]
  }
 ],
 "metadata": {
  "kernelspec": {
   "display_name": "Python 3 (ipykernel)",
   "language": "python",
   "name": "python3"
  },
  "language_info": {
   "codemirror_mode": {
    "name": "ipython",
    "version": 3
   },
   "file_extension": ".py",
   "mimetype": "text/x-python",
   "name": "python",
   "nbconvert_exporter": "python",
   "pygments_lexer": "ipython3",
   "version": "3.8.12"
  }
 },
 "nbformat": 4,
 "nbformat_minor": 5
}
